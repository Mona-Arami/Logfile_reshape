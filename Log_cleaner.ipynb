{
 "cells": [
  {
   "cell_type": "code",
   "execution_count": 2,
   "metadata": {},
   "outputs": [],
   "source": [
    "import csv\n",
    "# import sys\n",
    "import pandas as pd \n",
    "\n"
   ]
  },
  {
   "cell_type": "code",
   "execution_count": 4,
   "metadata": {},
   "outputs": [
    {
     "name": "stdout",
     "output_type": "stream",
     "text": [
      "finished\n"
     ]
    }
   ],
   "source": [
    "#removing commos from original log file.\n",
    "text = open(\"slurm_logs/yeti.log\", \"r\")\n",
    "text = ''.join([i for i in text]) \\\n",
    "    .replace(',', '-')\n",
    "x = open(\"yeti_log1.csv\",\"w\")\n",
    "x.writelines(text)\n",
    "x.close()\n",
    "print(\"finished\")"
   ]
  },
  {
   "cell_type": "code",
   "execution_count": 5,
   "metadata": {},
   "outputs": [
    {
     "name": "stdout",
     "output_type": "stream",
     "text": [
      "converting finished\n"
     ]
    }
   ],
   "source": [
    "#replace ~ with ,\n",
    "with open(\"yeti_log1.csv\", 'r') as in_file:\n",
    "#     stripped = (line.strip() for line in in_file)\n",
    "    lines = (line.split(\"~\") for line in in_file)\n",
    "    with open('yeti_log2.csv', 'w') as out_file:\n",
    "        writer = csv.writer(out_file)\n",
    "        writer.writerow(('Unique_Job_ID', 'Number_of_cores', 'Start_Time', 'Elapsed_Time', 'Submit_Date', 'Requested_Memory', 'Node_Count', 'Time_Limit', 'State', 'Partition','None', 'Node_List'))\n",
    "        writer.writerows(lines)\n",
    "print(\"converting finished\")"
   ]
  },
  {
   "cell_type": "code",
   "execution_count": 6,
   "metadata": {},
   "outputs": [
    {
     "name": "stdout",
     "output_type": "stream",
     "text": [
      "finished\n"
     ]
    }
   ],
   "source": [
    "#replace space with ,\n",
    "text = open(\"yeti_log2.csv\", \"r\")\n",
    "text = ''.join([i for i in text]) \\\n",
    "    .replace(\" \", \",\")\n",
    "x = open(\"yeti_clean_log.csv\",\"w\")\n",
    "x.writelines(text)\n",
    "x.close()\n",
    "print(\"finished\")"
   ]
  },
  {
   "cell_type": "code",
   "execution_count": 10,
   "metadata": {},
   "outputs": [
    {
     "name": "stdout",
     "output_type": "stream",
     "text": [
      "finished\n"
     ]
    }
   ],
   "source": [
    "# #replace \" with nothing\n",
    "# text = open(\"yeti_log3.csv\", \"r\")\n",
    "# text = ''.join([i for i in text]) \\\n",
    "#     .replace('\"', '')\n",
    "# x = open(\"yeti_log3.csv\",\"w\")\n",
    "# x.writelines(text)\n",
    "# x.close()\n",
    "# print(\"finished\")"
   ]
  },
  {
   "cell_type": "code",
   "execution_count": 7,
   "metadata": {},
   "outputs": [
    {
     "name": "stdout",
     "output_type": "stream",
     "text": [
      "1186\n"
     ]
    }
   ],
   "source": [
    "with open(\"yeti_clean_log.csv\",\"r\") as f:\n",
    "    reader = csv.reader(f,delimiter = \",\")\n",
    "    next(reader)\n",
    "    data = list(reader)\n",
    "    row_count = len(data)\n",
    "    print (row_count)"
   ]
  },
  {
   "cell_type": "code",
   "execution_count": null,
   "metadata": {},
   "outputs": [],
   "source": []
  },
  {
   "cell_type": "code",
   "execution_count": null,
   "metadata": {},
   "outputs": [],
   "source": []
  }
 ],
 "metadata": {
  "kernelspec": {
   "display_name": "Python 3",
   "language": "python",
   "name": "python3"
  },
  "language_info": {
   "codemirror_mode": {
    "name": "ipython",
    "version": 3
   },
   "file_extension": ".py",
   "mimetype": "text/x-python",
   "name": "python",
   "nbconvert_exporter": "python",
   "pygments_lexer": "ipython3",
   "version": "3.7.3"
  }
 },
 "nbformat": 4,
 "nbformat_minor": 2
}
